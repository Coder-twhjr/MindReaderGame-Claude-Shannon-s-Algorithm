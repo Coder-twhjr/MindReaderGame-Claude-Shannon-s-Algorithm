{
  "nbformat": 4,
  "nbformat_minor": 0,
  "metadata": {
    "colab": {
      "provenance": [],
      "collapsed_sections": [],
      "include_colab_link": true
    },
    "kernelspec": {
      "name": "python3",
      "display_name": "Python 3"
    }
  },
  "cells": [
    {
      "cell_type": "markdown",
      "metadata": {
        "id": "view-in-github",
        "colab_type": "text"
      },
      "source": [
        "<a href=\"https://colab.research.google.com/github/Coder-twhjr/MindReaderGame-Claude-Shannon-s-Algorithm/blob/main/Mind_Reader_Game_Claude_Shannon's_Algorithm_I.ipynb\" target=\"_parent\"><img src=\"https://colab.research.google.com/assets/colab-badge.svg\" alt=\"Open In Colab\"/></a>"
      ]
    },
    {
      "cell_type": "markdown",
      "metadata": {
        "id": "gGOahF4k7-t2"
      },
      "source": [
        "#Mind Reader Game - Claude Shannon's Algorithm I"
      ]
    },
    {
      "cell_type": "markdown",
      "metadata": {
        "id": "SYBl4w8h67_3"
      },
      "source": [
        "---"
      ]
    },
    {
      "cell_type": "markdown",
      "metadata": {
        "id": "6D8fIaMVC6dM"
      },
      "source": [
        "####Last Two Players Inputs"
      ]
    },
    {
      "cell_type": "code",
      "metadata": {
        "id": "HoQ6NypDBUaO"
      },
      "source": [
        "last_1 = 0\n",
        "last_2 = 0"
      ],
      "execution_count": 1,
      "outputs": []
    },
    {
      "cell_type": "markdown",
      "metadata": {
        "id": "nYg8ypDcMCnt"
      },
      "source": [
        "\n",
        "\n",
        "---"
      ]
    },
    {
      "cell_type": "markdown",
      "metadata": {
        "id": "N3o05TxC_u4b"
      },
      "source": [
        "####NumPy Array"
      ]
    },
    {
      "cell_type": "code",
      "metadata": {
        "id": "rRxf3tCIAMUZ",
        "colab": {
          "base_uri": "https://localhost:8080/"
        },
        "outputId": "033c51a6-a863-4f01-d772-57bfe7480b90"
      },
      "source": [
        "import numpy as np\n",
        "\n",
        "inputs = np.zeros(shape=(2, 2, 2), dtype=int)\n",
        "inputs"
      ],
      "execution_count": 2,
      "outputs": [
        {
          "output_type": "execute_result",
          "data": {
            "text/plain": [
              "array([[[0, 0],\n",
              "        [0, 0]],\n",
              "\n",
              "       [[0, 0],\n",
              "        [0, 0]]])"
            ]
          },
          "metadata": {},
          "execution_count": 2
        }
      ]
    },
    {
      "cell_type": "markdown",
      "metadata": {
        "id": "uwQW2KgKcu6B"
      },
      "source": [
        "---"
      ]
    },
    {
      "cell_type": "markdown",
      "metadata": {
        "id": "Vfeuw23lVCxW"
      },
      "source": [
        "####The `update_inputs()` Function"
      ]
    },
    {
      "cell_type": "code",
      "metadata": {
        "id": "Dms5n1NhMZAi"
      },
      "source": [
        "def update_inputs(current):\n",
        "  if inputs[last_2][last_1][0] == current:\n",
        "    inputs[last_2][last_1][1] = 1 \n",
        "    inputs[last_2][last_1][0] = current\n",
        "  else:\n",
        "    inputs[last_2][last_1][1] = 0 \n",
        "    inputs[last_2][last_1][0] = current\n",
        " \n",
        "  last_2 = last_1 \n",
        "  last_1 = current "
      ],
      "execution_count": 3,
      "outputs": []
    },
    {
      "cell_type": "markdown",
      "metadata": {
        "id": "KwG1KuUsc2iP"
      },
      "source": [
        "---"
      ]
    },
    {
      "cell_type": "markdown",
      "metadata": {
        "id": "cTIIPwaQYse1"
      },
      "source": [
        "####The `prediction()` Function"
      ]
    },
    {
      "cell_type": "code",
      "metadata": {
        "id": "vDJJRnrjKaEC"
      },
      "source": [
        "def prediction():\n",
        "  if inputs[last_2][last_1][1] == 1: \n",
        "    predict = inputs[last_2][last_1][0]    \n",
        "  else:\n",
        "    predict = random.randint(0, 1)  \n",
        "  return predict"
      ],
      "execution_count": 4,
      "outputs": []
    },
    {
      "cell_type": "markdown",
      "metadata": {
        "id": "ipMiJfsTc4h4"
      },
      "source": [
        "---"
      ]
    },
    {
      "cell_type": "markdown",
      "metadata": {
        "id": "mq21A1QDW5Dq"
      },
      "source": [
        "---"
      ]
    },
    {
      "cell_type": "markdown",
      "metadata": {
        "id": "SBizE3JAVAQD"
      },
      "source": [
        "####Divisors Lists"
      ]
    },
    {
      "cell_type": "code",
      "metadata": {
        "id": "usGHFG7IVGIO",
        "colab": {
          "base_uri": "https://localhost:8080/"
        },
        "outputId": "9e91cc6d-899e-48aa-e394-e49ae6fe2901"
      },
      "source": [
        "num = int(input(\"Enter a number: \"))\n",
        "\n",
        "def divisor_list(x):\n",
        "    n = 1\n",
        "    divisor_list = []\n",
        "    while n <= x:\n",
        "        if (x % n == 0):\n",
        "            divisor_list.append(n)\n",
        "        n = n+1    \n",
        "    return divisor_list\n",
        "\n",
        "print(divisor_list(num))"
      ],
      "execution_count": 5,
      "outputs": [
        {
          "output_type": "stream",
          "name": "stdout",
          "text": [
            "Enter a number: 9\n",
            "[1, 3, 9]\n"
          ]
        }
      ]
    },
    {
      "cell_type": "markdown",
      "metadata": {
        "id": "g7B8Vqa1VeRa"
      },
      "source": [
        "---"
      ]
    },
    {
      "cell_type": "markdown",
      "metadata": {
        "id": "_1Juf2VgVZDi"
      },
      "source": [
        "####Minimum Sum & Maximum Sum\n"
      ]
    },
    {
      "cell_type": "code",
      "metadata": {
        "id": "jkE56aRUVe_2",
        "colab": {
          "base_uri": "https://localhost:8080/"
        },
        "outputId": "4c799bd7-123b-4624-a18f-6253abbfa146"
      },
      "source": [
        "def min_and_max_sum(num_list):\n",
        "    min_num = 10 ** 9\n",
        "    max_num = 0\n",
        "    result = 0\n",
        "    for num in num_list:\n",
        "        if num < min_num:\n",
        "            min_num = num\n",
        "        if num > max_num:\n",
        "            max_num = num\n",
        "        result = result + num\n",
        "    min_sum = result - max_num\n",
        "    max_sum = result - min_num\n",
        "    print(\"The minimum sum is \" + str(min_sum) + \"\\n\" +\n",
        "         \"The maximum sum is \" + str(max_sum))\n",
        "\n",
        "min_and_max_sum([1, 2, 3, 4, 5]) \n",
        "min_and_max_sum([2, 3, 4, 3, 7]) "
      ],
      "execution_count": 7,
      "outputs": [
        {
          "output_type": "stream",
          "name": "stdout",
          "text": [
            "The minimum sum is 10\n",
            "The maximum sum is 14\n",
            "The minimum sum is 12\n",
            "The maximum sum is 17\n"
          ]
        }
      ]
    },
    {
      "cell_type": "markdown",
      "metadata": {
        "id": "nWnPBvSMU9sF"
      },
      "source": [
        "---"
      ]
    }
  ]
}