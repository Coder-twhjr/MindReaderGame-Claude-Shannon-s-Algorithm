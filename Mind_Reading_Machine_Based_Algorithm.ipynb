{
  "nbformat": 4,
  "nbformat_minor": 0,
  "metadata": {
    "colab": {
      "provenance": [],
      "collapsed_sections": [],
      "include_colab_link": true
    },
    "kernelspec": {
      "name": "python3",
      "display_name": "Python 3"
    }
  },
  "cells": [
    {
      "cell_type": "markdown",
      "metadata": {
        "id": "view-in-github",
        "colab_type": "text"
      },
      "source": [
        "<a href=\"https://colab.research.google.com/github/Coder-twhjr/MindReaderGame-Claude-Shannon-s-Algorithm/blob/main/Mind_Reading_Machine_Based_Algorithm.ipynb\" target=\"_parent\"><img src=\"https://colab.research.google.com/assets/colab-badge.svg\" alt=\"Open In Colab\"/></a>"
      ]
    },
    {
      "cell_type": "markdown",
      "metadata": {
        "id": "gGOahF4k7-t2"
      },
      "source": [
        "#Mind Reading Machine Based Algorithm\n",
        "\n",
        "\n"
      ]
    },
    {
      "cell_type": "markdown",
      "metadata": {
        "id": "pr_yE1uc61Eg"
      },
      "source": [
        "---"
      ]
    },
    {
      "cell_type": "markdown",
      "metadata": {
        "id": "6D8fIaMVC6dM"
      },
      "source": [
        "#### Last Two Players Inputs"
      ]
    },
    {
      "cell_type": "code",
      "metadata": {
        "id": "HoQ6NypDBUaO"
      },
      "source": [
        "last_1 = 0\n",
        "last_2 = 0"
      ],
      "execution_count": 1,
      "outputs": []
    },
    {
      "cell_type": "markdown",
      "metadata": {
        "id": "nYg8ypDcMCnt"
      },
      "source": [
        "\n",
        "\n",
        "---"
      ]
    },
    {
      "cell_type": "markdown",
      "metadata": {
        "id": "N3o05TxC_u4b"
      },
      "source": [
        "#### The `inputs` Array"
      ]
    },
    {
      "cell_type": "code",
      "metadata": {
        "id": "rRxf3tCIAMUZ",
        "colab": {
          "base_uri": "https://localhost:8080/"
        },
        "outputId": "7c9d25c0-b934-437c-ed3f-1d75dacd81e8"
      },
      "source": [
        "import numpy as np\n",
        "\n",
        "inputs = np.zeros(shape=(2, 2, 2), dtype=int)\n",
        "inputs"
      ],
      "execution_count": 2,
      "outputs": [
        {
          "output_type": "execute_result",
          "data": {
            "text/plain": [
              "array([[[0, 0],\n",
              "        [0, 0]],\n",
              "\n",
              "       [[0, 0],\n",
              "        [0, 0]]])"
            ]
          },
          "metadata": {},
          "execution_count": 2
        }
      ]
    },
    {
      "cell_type": "markdown",
      "metadata": {
        "id": "uwQW2KgKcu6B"
      },
      "source": [
        "---"
      ]
    },
    {
      "cell_type": "markdown",
      "metadata": {
        "id": "Vfeuw23lVCxW"
      },
      "source": [
        "#### The `update_inputs()` Function"
      ]
    },
    {
      "cell_type": "code",
      "metadata": {
        "id": "Dms5n1NhMZAi"
      },
      "source": [
        "def update_inputs(current):\n",
        "  if inputs[last_2][last_1][0] == current:\n",
        "    inputs[last_2][last_1][1] = 1 \n",
        "    inputs[last_2][last_1][0] = current\n",
        "  else:\n",
        "    inputs[last_2][last_1][1] = 0 \n",
        "    inputs[last_2][last_1][0] = current\n",
        " \n",
        "  last_2 = last_1 \n",
        "  last_1 = current "
      ],
      "execution_count": 3,
      "outputs": []
    },
    {
      "cell_type": "markdown",
      "metadata": {
        "id": "KwG1KuUsc2iP"
      },
      "source": [
        "---"
      ]
    },
    {
      "cell_type": "markdown",
      "metadata": {
        "id": "cTIIPwaQYse1"
      },
      "source": [
        "#### The `prediction()` Function"
      ]
    },
    {
      "cell_type": "code",
      "metadata": {
        "id": "vDJJRnrjKaEC"
      },
      "source": [
        "def prediction():\n",
        "  if inputs[last_2][last_1][1] == 1: \n",
        "    predict = inputs[last_2][last_1][0]    \n",
        "  else:\n",
        "    predict = random.randint(0, 1)  \n",
        "  return predict"
      ],
      "execution_count": 4,
      "outputs": []
    },
    {
      "cell_type": "markdown",
      "metadata": {
        "id": "ipMiJfsTc4h4"
      },
      "source": [
        "---"
      ]
    },
    {
      "cell_type": "markdown",
      "metadata": {
        "id": "ETmWmRMHhrvc"
      },
      "source": [
        "####The `update_scores()` Function"
      ]
    },
    {
      "cell_type": "code",
      "metadata": {
        "id": "Wlomn5gAhrgG"
      },
      "source": [
        "scores = [0, 0]\n",
        "\n",
        "def update_scores(predicted, player_input):\n",
        "  if predicted == player_input:\n",
        "    scores[0] =  scores[0] + 1\n",
        "    print(\"\\nComputer Score:\", scores[0], \"\\nPlayer Score:\", scores[1]) \n",
        "               \n",
        "  else:\n",
        "    scores[1] = scores[1] + 1\n",
        "    print(\"\\nComputer Score:\", scores[0], \"\\nPlayer Score:\", scores[1])"
      ],
      "execution_count": 6,
      "outputs": []
    },
    {
      "cell_type": "markdown",
      "metadata": {
        "id": "IYuskDGYjiSp"
      },
      "source": [
        "---"
      ]
    },
    {
      "cell_type": "markdown",
      "metadata": {
        "id": "iGRn-kJmDqZe"
      },
      "source": [
        "####The `reset()` Function"
      ]
    },
    {
      "cell_type": "code",
      "metadata": {
        "id": "33rHBuc1L7Ww"
      },
      "source": [
        "def reset():\n",
        "  for i in range(2):\n",
        "    for j in range(2):\n",
        "      for k in range(2):\n",
        "        inputs[i][j][k] = 0\n",
        "\n",
        "  for i in range(len(scores)):\n",
        "    scores[i] = 0      "
      ],
      "execution_count": 7,
      "outputs": []
    },
    {
      "cell_type": "markdown",
      "metadata": {
        "id": "ICN5SalGIKoI"
      },
      "source": [
        "---"
      ]
    },
    {
      "cell_type": "markdown",
      "metadata": {
        "id": "JuHGxZn9aXJI"
      },
      "source": [
        "####Putting Everything Together"
      ]
    },
    {
      "cell_type": "code",
      "metadata": {
        "id": "1k22BieyBUCl"
      },
      "source": [
        "import random\n",
        "import numpy as np\n",
        "\n",
        "inputs = np.zeros(shape=(2, 2, 2), dtype=int) \n",
        "\n",
        "last_1 = 0\n",
        "last_2 = 0\n",
        "\n",
        "scores = [0, 0] \n",
        "\n",
        "def update_inputs(current):\n",
        "  global last_1, last_2\n",
        "  if inputs[last_2][last_1][0] == current:\n",
        "    inputs[last_2][last_1][1] = 1 \n",
        "    inputs[last_2][last_1][0] = current\n",
        "  else:\n",
        "    inputs[last_2][last_1][1] = 0 \n",
        "    inputs[last_2][last_1][0] = current\n",
        "  \n",
        "  last_2 = last_1 \n",
        "  last_1 = current \n",
        "    \n",
        "def prediction():\n",
        "  if inputs[last_2][last_1][1] == 1: \n",
        "    predict = inputs[last_2][last_1][0]    \n",
        "  else:\n",
        "    predict = random.randint(0, 1)  \n",
        "  return predict\n",
        "\n",
        "def update_scores(predicted, player_input):  \n",
        "  if predicted == player_input:\n",
        "    scores[0] = scores[0] + 1\n",
        "    print(\"\\nComputer Score:\", scores[0], \"\\nPlayer Score:\", scores[1]) \n",
        "        \n",
        "  else:\n",
        "    scores[1] = scores[1] + 1\n",
        "    print(\"\\nComputer Score:\", scores[0], \"\\nPlayer Score:\", scores[1]) \n",
        "\n",
        "def reset():\n",
        "  for i in range(2):\n",
        "    for j in range(2):\n",
        "      for k in range(2):\n",
        "        inputs[i][j][k] = 0\n",
        "  \n",
        "  for i in range(2):\n",
        "    scores[i] = 0"
      ],
      "execution_count": 8,
      "outputs": []
    },
    {
      "cell_type": "markdown",
      "metadata": {
        "id": "rmiJ2qcpvHJa"
      },
      "source": [
        "---"
      ]
    },
    {
      "cell_type": "markdown",
      "metadata": {
        "id": "KOeUgF8kvH4q"
      },
      "source": [
        "####The `gameplay()` Function"
      ]
    },
    {
      "cell_type": "code",
      "metadata": {
        "id": "AdiwBplXCXfK"
      },
      "source": [
        "def gameplay():\n",
        "  reset()\n",
        "  print(inputs)\n",
        "  print(scores)\n",
        "  valid_entries = ['0', '1']\n",
        "  while True:\n",
        "    predicted = prediction()\n",
        "    player_input = input(\"\\nEnter either 1 or 0: \")\n",
        "    \n",
        "    while player_input not in valid_entries:\n",
        "      print(\"\\nInvalid Input!\")\n",
        "      player_input = input(\"Please enter either 1 or 0: \")\n",
        "    \n",
        "    player_input = int(player_input)\n",
        "    update_inputs(player_input)\n",
        "    update_scores(predicted, player_input)\n",
        "        \n",
        "    if scores[0] == 20:\n",
        "      print(\"\\nBad Luck, Computer Wins!\\n\")\n",
        "      break\n",
        "        \n",
        "    elif scores[1] == 20:\n",
        "      print(\"\\nCongrats, You Won!\\n\")\n",
        "      break"
      ],
      "execution_count": 9,
      "outputs": []
    },
    {
      "cell_type": "code",
      "metadata": {
        "id": "PDSE2tF_C129",
        "colab": {
          "base_uri": "https://localhost:8080/"
        },
        "outputId": "932c434f-7be9-4458-b570-bf6161e7d586"
      },
      "source": [
        "gameplay()"
      ],
      "execution_count": 10,
      "outputs": [
        {
          "output_type": "stream",
          "name": "stdout",
          "text": [
            "[[[0 0]\n",
            "  [0 0]]\n",
            "\n",
            " [[0 0]\n",
            "  [0 0]]]\n",
            "[0, 0]\n",
            "\n",
            "Enter either 1 or 0: 1\n",
            "\n",
            "Computer Score: 1 \n",
            "Player Score: 0\n",
            "\n",
            "Enter either 1 or 0: 1\n",
            "\n",
            "Computer Score: 1 \n",
            "Player Score: 1\n",
            "\n",
            "Enter either 1 or 0: 1\n",
            "\n",
            "Computer Score: 2 \n",
            "Player Score: 1\n",
            "\n",
            "Enter either 1 or 0: \n",
            "\n",
            "Invalid Input!\n",
            "Please enter either 1 or 0: 0\n",
            "\n",
            "Computer Score: 2 \n",
            "Player Score: 2\n",
            "\n",
            "Enter either 1 or 0: 0\n",
            "\n",
            "Computer Score: 3 \n",
            "Player Score: 2\n",
            "\n",
            "Enter either 1 or 0: 1\n",
            "\n",
            "Computer Score: 3 \n",
            "Player Score: 3\n",
            "\n",
            "Enter either 1 or 0: 0\n",
            "\n",
            "Computer Score: 3 \n",
            "Player Score: 4\n",
            "\n",
            "Enter either 1 or 0: 1\n",
            "\n",
            "Computer Score: 3 \n",
            "Player Score: 5\n",
            "\n",
            "Enter either 1 or 0: 0\n",
            "\n",
            "Computer Score: 4 \n",
            "Player Score: 5\n",
            "\n",
            "Enter either 1 or 0: 0\n",
            "\n",
            "Computer Score: 5 \n",
            "Player Score: 5\n",
            "\n",
            "Enter either 1 or 0: 0\n",
            "\n",
            "Computer Score: 5 \n",
            "Player Score: 6\n",
            "\n",
            "Enter either 1 or 0: 1\n",
            "\n",
            "Computer Score: 6 \n",
            "Player Score: 6\n",
            "\n",
            "Enter either 1 or 0: 1\n",
            "\n",
            "Enter either 1 or 0: 0\n",
            "\n",
            "Computer Score: 6 \n",
            "Player Score: 7\n",
            "\n",
            "Computer Score: 6 \n",
            "Player Score: 8\n",
            "\n",
            "Enter either 1 or 0: 0\n",
            "\n",
            "Computer Score: 6 \n",
            "Player Score: 9\n",
            "\n",
            "Enter either 1 or 0: 0\n",
            "\n",
            "Computer Score: 7 \n",
            "Player Score: 9\n",
            "\n",
            "Enter either 1 or 0: 1\n",
            "\n",
            "Computer Score: 7 \n",
            "Player Score: 10\n",
            "\n",
            "Enter either 1 or 0: 0\n",
            "\n",
            "Computer Score: 7 \n",
            "Player Score: 11\n",
            "\n",
            "Enter either 1 or 0: 1\n",
            "\n",
            "Computer Score: 7 \n",
            "Player Score: 12\n",
            "\n",
            "Enter either 1 or 0: 1\n",
            "\n",
            "Computer Score: 8 \n",
            "Player Score: 12\n",
            "\n",
            "Enter either 1 or 0: 0\n",
            "\n",
            "Computer Score: 9 \n",
            "Player Score: 12\n",
            "\n",
            "Enter either 1 or 0: 1\n",
            "\n",
            "Computer Score: 10 \n",
            "Player Score: 12\n",
            "\n",
            "Enter either 1 or 0: 0\n",
            "\n",
            "Computer Score: 10 \n",
            "Player Score: 13\n",
            "\n",
            "Enter either 1 or 0: 1\n",
            "\n",
            "Computer Score: 11 \n",
            "Player Score: 13\n",
            "\n",
            "Enter either 1 or 0: 0\n",
            "\n",
            "Computer Score: 11 \n",
            "Player Score: 14\n",
            "\n",
            "Enter either 1 or 0: 0\n",
            "\n",
            "Computer Score: 11 \n",
            "Player Score: 15\n",
            "\n",
            "Enter either 1 or 0: 0\n",
            "\n",
            "Computer Score: 12 \n",
            "Player Score: 15\n",
            "\n",
            "Enter either 1 or 0: 1\n",
            "\n",
            "Computer Score: 12 \n",
            "Player Score: 16\n",
            "\n",
            "Enter either 1 or 0: 1\n",
            "\n",
            "Computer Score: 12 \n",
            "Player Score: 17\n",
            "\n",
            "Enter either 1 or 0: 1\n",
            "\n",
            "Computer Score: 12 \n",
            "Player Score: 18\n",
            "\n",
            "Enter either 1 or 0: 1\n",
            "\n",
            "Computer Score: 12 \n",
            "Player Score: 19\n",
            "\n",
            "Enter either 1 or 0: 1\n",
            "\n",
            "Computer Score: 13 \n",
            "Player Score: 19\n",
            "\n",
            "Enter either 1 or 0: 1\n",
            "\n",
            "Computer Score: 14 \n",
            "Player Score: 19\n",
            "\n",
            "Enter either 1 or 0: 1\n",
            "\n",
            "Computer Score: 15 \n",
            "Player Score: 19\n",
            "\n",
            "Enter either 1 or 0: 0\n",
            "\n",
            "Computer Score: 15 \n",
            "Player Score: 20\n",
            "\n",
            "Congrats, You Won!\n",
            "\n"
          ]
        }
      ]
    },
    {
      "cell_type": "markdown",
      "metadata": {
        "id": "YigbTCM4QXVr"
      },
      "source": [
        "---"
      ]
    }
  ]
}